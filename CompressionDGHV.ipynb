{
 "cells": [
  {
   "cell_type": "code",
   "execution_count": 1,
   "metadata": {},
   "outputs": [],
   "source": [
    "import random\n",
    "import numpy as np\n",
    "import math\n",
    "import sympy"
   ]
  },
  {
   "cell_type": "markdown",
   "metadata": {},
   "source": [
    "## convert a positive integer x into binary"
   ]
  },
  {
   "cell_type": "code",
   "execution_count": 2,
   "metadata": {},
   "outputs": [],
   "source": [
    "def digits(x): #always binary\n",
    "            x = int(x)\n",
    "            le = list('{0:0b}'.format(x))\n",
    "            le.reverse()\n",
    "            return le"
   ]
  },
  {
   "cell_type": "markdown",
   "metadata": {},
   "source": [
    "## Converts a positive integer x into binary with l digits"
   ]
  },
  {
   "cell_type": "code",
   "execution_count": 3,
   "metadata": {},
   "outputs": [],
   "source": [
    "def toBinary(x,l):\n",
    "        x=int(x)\n",
    "        return digits(x+2**l)[:-1]"
   ]
  },
  {
   "cell_type": "markdown",
   "metadata": {},
   "source": [
    "# – BitDecomp"
   ]
  },
  {
   "cell_type": "code",
   "execution_count": 4,
   "metadata": {},
   "outputs": [],
   "source": [
    "def BitDecomp(v,η):\n",
    "    v=list(v)\n",
    "    v=extractKBitsLIST(v,η)\n",
    "    n=len(v)\n",
    "    arr = np.empty((0,η), int)\n",
    "   # print(\"1\",arr)\n",
    "    for i in v:\n",
    "         row=toBinary(i,η)\n",
    "        # print(\"row\",row)\n",
    "         arr = np.append(arr, np.array([row]), axis=0)\n",
    "       #  print(arr)\n",
    "    #print(\"arr2\",arr)\n",
    "    return arr"
   ]
  },
  {
   "cell_type": "markdown",
   "metadata": {},
   "source": [
    "# – PowersofTwo"
   ]
  },
  {
   "cell_type": "code",
   "execution_count": 5,
   "metadata": {},
   "outputs": [],
   "source": [
    "def PowersofTwo(w,η):\n",
    "     w=list(w)\n",
    "     n= len(w)\n",
    "     arr = np.empty((n,0), int)\n",
    "     for i in range (0,η) :\n",
    "            column=np.multiply((2**i),w)\n",
    "            arr=np.c_[arr,column]\n",
    "     print(arr)\n",
    "     return arr       "
   ]
  },
  {
   "cell_type": "markdown",
   "metadata": {},
   "source": [
    "# convert list to string"
   ]
  },
  {
   "cell_type": "code",
   "execution_count": 6,
   "metadata": {},
   "outputs": [],
   "source": [
    "def listToString(s):  \n",
    "    \n",
    "    # initialize an empty string \n",
    "    str1 = \"\"  \n",
    "    \n",
    "    # traverse in the string   \n",
    "    for ele in s:  \n",
    "        str1 += ele   \n",
    "    \n",
    "    # return string   \n",
    "    return str1 "
   ]
  },
  {
   "cell_type": "markdown",
   "metadata": {},
   "source": [
    "# comput num to mod $2^k$ binarry "
   ]
  },
  {
   "cell_type": "code",
   "execution_count": 7,
   "metadata": {},
   "outputs": [],
   "source": [
    "def extractKBits(num,k): \n",
    "  \n",
    "     binary = toBinary(num,k) \n",
    "     binary.reverse()\n",
    "     binary=binary[-k:]\n",
    "     binary=listToString(binary)\n",
    "     kBitSubStr=int(binary,2)\n",
    "     return kBitSubStr"
   ]
  },
  {
   "cell_type": "markdown",
   "metadata": {},
   "source": [
    "# comput num to mod $2^k$ binarry  LIST"
   ]
  },
  {
   "cell_type": "code",
   "execution_count": 8,
   "metadata": {},
   "outputs": [],
   "source": [
    "def extractKBitsLIST(num,k): \n",
    "     L=[]\n",
    "     # convert number into binary first \n",
    "     for i in num:\n",
    "               binary = toBinary(i,k) \n",
    "               binary.reverse()\n",
    "               binary=binary[-k:]\n",
    "               binary=listToString(binary)\n",
    "               kBitSubStr=int(binary,2)\n",
    "               L.append(kBitSubStr)\n",
    "     return L "
   ]
  },
  {
   "cell_type": "markdown",
   "metadata": {},
   "source": [
    "## $\\lfloor \\frac{a}{b} \\rceil$   Gives the nearest integer to $\\frac{a}{b}$"
   ]
  },
  {
   "cell_type": "code",
   "execution_count": 9,
   "metadata": {},
   "outputs": [],
   "source": [
    "def QuotientNear(a,b):\n",
    "    a=int(a)\n",
    "    b=int(b)\n",
    "    return ((a<<1)+b)//(b<<1)"
   ]
  },
  {
   "cell_type": "markdown",
   "metadata": {},
   "source": [
    "## $ a \\quad mod \\quad b = a - b \\lfloor \\frac{a}{b} \\rceil $  Computes a mod b with $a \\in [\\frac{-b}{2},\\frac{b}{2}]$"
   ]
  },
  {
   "cell_type": "code",
   "execution_count": 10,
   "metadata": {},
   "outputs": [],
   "source": [
    "def modNear(a,b):\n",
    "    return a-b*QuotientNear(a,b)"
   ]
  },
  {
   "cell_type": "markdown",
   "metadata": {},
   "source": [
    "## $ a \\quad mod \\quad b = a - b \\lfloor \\frac{a}{b} \\rceil $  Computes a mod b with $a \\in [\\frac{-b}{2},\\frac{b}{2}]$ a=list ,b=number"
   ]
  },
  {
   "cell_type": "code",
   "execution_count": 11,
   "metadata": {},
   "outputs": [],
   "source": [
    "def mNear(a,b):\n",
    "    e=[]\n",
    "    for i in a:\n",
    "        e.append(QuotientNear(i,b))\n",
    "       # print(e)\n",
    "    return np.subtract(a,np.multiply(b,e))"
   ]
  },
  {
   "cell_type": "markdown",
   "metadata": {},
   "source": [
    "#  pseudo-random number generator"
   ]
  },
  {
   "cell_type": "code",
   "execution_count": 12,
   "metadata": {},
   "outputs": [],
   "source": [
    "def grandom(se,T,γ):\n",
    "    random.seed(se)\n",
    "    XX=[]\n",
    "    for i in range(0,T):\n",
    "        XX.append(random.randint(0,2**γ))\n",
    "    return XX"
   ]
  },
  {
   "cell_type": "markdown",
   "metadata": {},
   "source": [
    "#  parameters and generate key"
   ]
  },
  {
   "cell_type": "code",
   "execution_count": 13,
   "metadata": {},
   "outputs": [],
   "source": [
    "def keygeneration(λ):\n",
    "    # in the security parameter λ\n",
    "    λ = int(input(\"enter security parameter\"))\n",
    "    print(\"λ\",λ)\n",
    "    # L is the multiplicative depth\n",
    "    #L = int(input(\"enter multiplicative depth\"))\n",
    "    #print(\"L\",L)\n",
    "    # ρ is the bit-length of the first noise parameter.\n",
    "    ρ = λ\n",
    "    ρ=QuotientNear(ρ,1)\n",
    "    print(\"ρ\",ρ)\n",
    "    # η is the bit-length of the secret key\n",
    "    η =λ**2\n",
    "    η=QuotientNear(η,1)\n",
    "    print(\"η\",η)\n",
    "    # γ is the bit-length of an approximate GCD sample.\n",
    "    γ = λ**5\n",
    "    γ = QuotientNear(γ,1)\n",
    "    print(\"γ\",γ)\n",
    "    # τ is the number of integers in the public key.\n",
    "    τ = λ**3\n",
    "    τ = QuotientNear(τ,1)\n",
    "    print(\"τ\",τ)\n",
    "    ρρ= λ**2\n",
    "    ρρ=QuotientNear(ρρ,1)\n",
    "    print(\"ρρ\",ρρ)\n",
    "    α = λ**2\n",
    "    α = QuotientNear(α,1)\n",
    "    print(\"α\",α)\n",
    "    print(\"Random integer from 2^(η-1) to 2^(η)\")\n",
    "    p=sympy.randprime(2**(η-1), 2**(η))\n",
    "    print(\"secret key: \", p)\n",
    "    q_0 = random.randint(0, (2**γ)//p)\n",
    "    while extractKBits(q_0,1)==0:\n",
    "                           q_0 = random.randint(0, (2**γ)//p)\n",
    "    x_0=q_0*p\n",
    "    se=16\n",
    "    XX=grandom(se,τ,γ)\n",
    "    XXX=[]\n",
    "    for i in XX:\n",
    "         XXX.append(i%p) \n",
    "    ep=[]\n",
    "    ri=[]\n",
    "    for i in range(0,τ):\n",
    "             ep.append(random.randint(0,(2**(λ+η))//p))\n",
    "             ri.append(random.randint(-2**ρ,2**ρ))\n",
    "    epep=np.multiply(ep,p)\n",
    "    epr=np.subtract(epep,ri)\n",
    "    delta=np.add(XXX,epr)\n",
    "    print(\"delta\",delta)\n",
    "    \n",
    "    return λ,ρ,η,γ,τ,ρρ,α,x_0,delta,se,p"
   ]
  },
  {
   "cell_type": "markdown",
   "metadata": {},
   "source": [
    "### generate list plain text"
   ]
  },
  {
   "cell_type": "code",
   "execution_count": 14,
   "metadata": {},
   "outputs": [],
   "source": [
    "def plaintext(n):\n",
    "    n = int(input(\"Enter number of elements : \"))\n",
    "    m = np.random.randint(0,2,n)\n",
    "    print('plaintext' ,m)\n",
    "    return m"
   ]
  },
  {
   "cell_type": "markdown",
   "metadata": {},
   "source": [
    "# encryption"
   ]
  },
  {
   "cell_type": "code",
   "execution_count": 15,
   "metadata": {},
   "outputs": [],
   "source": [
    "def enc(m,se,x_0,γ,τ,delta,ρρ,α):\n",
    "    m = list(m)\n",
    "    XX=grandom(se,τ,γ)\n",
    "    X=np.subtract(XX,delta)\n",
    "    c=[]\n",
    "    for i in m:\n",
    "        b=[]\n",
    "        for i in range (0,τ):\n",
    "             b.append(random.randint(0,2**α))\n",
    "        r=random.randint(-2**ρρ,2**ρρ)\n",
    "        cc=np.inner(b,X)\n",
    "        ccc=cc<<1\n",
    "        #ccc=cc*2\n",
    "        rr=r<<2\n",
    "       # rr=r*2\n",
    "        ccc=ccc+rr\n",
    "        cccc=modNear(ccc,x_0)\n",
    "        c.append(cccc)\n",
    "    print(\"ciphertext\",c)\n",
    "    return c"
   ]
  },
  {
   "cell_type": "markdown",
   "metadata": {},
   "source": [
    "# decription"
   ]
  },
  {
   "cell_type": "code",
   "execution_count": 16,
   "metadata": {},
   "outputs": [],
   "source": [
    "def dec(c,p):\n",
    "    #ddd=np.multiplay(2,c)\n",
    "    d=[]\n",
    "    for i in c:\n",
    "        i=int(i)\n",
    "        i=i%p\n",
    "        i=extractKBits(i,1)\n",
    "        #i=modNear(i,2)\n",
    "        #i=i%2\n",
    "        d.append(i)\n",
    "    print(\"decription\",d)\n",
    "    return d"
   ]
  },
  {
   "cell_type": "markdown",
   "metadata": {},
   "source": [
    "# error decription"
   ]
  },
  {
   "cell_type": "code",
   "execution_count": 17,
   "metadata": {},
   "outputs": [],
   "source": [
    "def error(d,m):\n",
    "    m=list(m)\n",
    "    xx = np.add(d,m)\n",
    "    xxx  = xx % 2\n",
    "    x  = list(xxx)\n",
    "    error=sum(x)\n",
    "    print('error', error)"
   ]
  },
  {
   "cell_type": "markdown",
   "metadata": {},
   "source": [
    "# ADD"
   ]
  },
  {
   "cell_type": "code",
   "execution_count": 18,
   "metadata": {},
   "outputs": [],
   "source": [
    "def ADD(c,p,m,x_0):\n",
    "    c=list(c)\n",
    "    m=list(m)\n",
    "    sum_addc=sum(c)\n",
    "    sum_addc=modNear(sum_addc,x_0)\n",
    "    sum_addc=([sum_addc])\n",
    "    dc=dec(sum_addc,p)\n",
    "    print(\"saddc\",dc)\n",
    "    sum_addm=sum(m)\n",
    "    sum_addm=sum_addm%2\n",
    "    sum_addm=([sum_addm])\n",
    "    print(\"saddm\",sum_addm)\n",
    "    print(error(dc,sum_addm))"
   ]
  },
  {
   "cell_type": "markdown",
   "metadata": {},
   "source": [
    "# MULTIPLACTION"
   ]
  },
  {
   "cell_type": "code",
   "execution_count": 19,
   "metadata": {},
   "outputs": [],
   "source": [
    "def mult(c,p,m,x_0):\n",
    "    c=list(c)\n",
    "    m=list(m)\n",
    "    mul_c=np.prod(c)\n",
    "    print(mul_c)\n",
    "    mul_c=modNear(mul_c,x_0)\n",
    "    mul_c=list([mul_c])\n",
    "    dc=dec(mul_c,p)\n",
    "    print(\"mullc\",dc)\n",
    "    mul_m=np.prod(m)\n",
    "    mul_m=mul_m%2\n",
    "    mul_m=list([mul_m])\n",
    "    print(\"mul_m\",mul_m)\n",
    "    print(error(dc,mul_m))   "
   ]
  }
 ],
 "metadata": {
  "kernelspec": {
   "display_name": "Python 3",
   "language": "python",
   "name": "python3"
  },
  "language_info": {
   "codemirror_mode": {
    "name": "ipython",
    "version": 3
   },
   "file_extension": ".py",
   "mimetype": "text/x-python",
   "name": "python",
   "nbconvert_exporter": "python",
   "pygments_lexer": "ipython3",
   "version": "3.7.6"
  }
 },
 "nbformat": 4,
 "nbformat_minor": 4
}
